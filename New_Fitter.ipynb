{
 "cells": [
  {
   "cell_type": "markdown",
   "metadata": {},
   "source": [
    "# Process class estimation of percentage job complete is inverse!\n",
    "It should be ``where(completed == 1)`` not ``where(completed == 0)``"
   ]
  },
  {
   "cell_type": "code",
   "execution_count": null,
   "metadata": {},
   "outputs": [],
   "source": [
    "import sys\n",
    "sys.path.append('/Users/syz/PycharmProjects/pyUSID/')\n",
    "import os\n",
    "import h5py\n",
    "import shutil\n",
    "import numpy as np\n",
    "import pyUSID as usid"
   ]
  },
  {
   "cell_type": "code",
   "execution_count": null,
   "metadata": {},
   "outputs": [],
   "source": [
    "from be_sho_fitter import BESHOfitter"
   ]
  },
  {
   "cell_type": "code",
   "execution_count": null,
   "metadata": {},
   "outputs": [],
   "source": [
    "orig_data_path = '/Users/syz/PycharmProjects/pyUSID/data/BELine_0004.h5'\n",
    "input_data_path = shutil.copy(orig_data_path, './BELine_0004.h5')"
   ]
  },
  {
   "cell_type": "code",
   "execution_count": null,
   "metadata": {},
   "outputs": [],
   "source": [
    "input_data_path = './BELine_0004.h5'"
   ]
  },
  {
   "cell_type": "code",
   "execution_count": null,
   "metadata": {},
   "outputs": [],
   "source": [
    "h5_f = h5py.File(input_data_path, mode='r+')\n",
    "h5_main = usid.USIDataset(h5_f['Measurement_000/Channel_000/Raw_Data'])\n",
    "print(h5_main)"
   ]
  },
  {
   "cell_type": "code",
   "execution_count": null,
   "metadata": {},
   "outputs": [],
   "source": [
    "usid.hdf_utils.print_tree(h5_f)"
   ]
  },
  {
   "cell_type": "code",
   "execution_count": null,
   "metadata": {},
   "outputs": [],
   "source": [
    "def print_status(grp, mode='guess'):\n",
    "    try:\n",
    "        stat_dset = grp['completed_' + mode + '_positions']\n",
    "        print(mode + ' completed: {}%'.format(int(100 * np.sum(stat_dset[()]) / h5_main.shape[0])))\n",
    "    except KeyError:\n",
    "        pass\n",
    "\n",
    "for grp in usid.hdf_utils.find_results_groups(h5_main, 'SHO_Fit'):\n",
    "    usid.hdf_utils.print_tree(grp)\n",
    "    print('\\nAttributes attached to group:')\n",
    "    for key, val in usid.hdf_utils.get_attributes(grp).items():\n",
    "        print('{}\\t:\\t{}'.format(key, val))\n",
    "    print('')\n",
    "    print_status(grp, mode='guess')\n",
    "    print_status(grp, mode='fit')"
   ]
  },
  {
   "cell_type": "code",
   "execution_count": null,
   "metadata": {
    "scrolled": false
   },
   "outputs": [],
   "source": [
    "proc = BESHOfitter(h5_main, verbose=True)\n",
    "proc.set_up_guess()"
   ]
  },
  {
   "cell_type": "code",
   "execution_count": null,
   "metadata": {},
   "outputs": [],
   "source": [
    "h5_guess = proc.do_guess()"
   ]
  },
  {
   "cell_type": "code",
   "execution_count": null,
   "metadata": {},
   "outputs": [],
   "source": [
    "proc.set_up_fit()"
   ]
  },
  {
   "cell_type": "code",
   "execution_count": null,
   "metadata": {},
   "outputs": [],
   "source": [
    "h5_fit = proc.do_fit()"
   ]
  },
  {
   "cell_type": "code",
   "execution_count": null,
   "metadata": {},
   "outputs": [],
   "source": [
    "usid.hdf_utils.print_tree(h5_f)"
   ]
  },
  {
   "cell_type": "code",
   "execution_count": null,
   "metadata": {},
   "outputs": [],
   "source": [
    "proc.do_guess()"
   ]
  },
  {
   "cell_type": "code",
   "execution_count": null,
   "metadata": {},
   "outputs": [],
   "source": [
    "h5_f.close()"
   ]
  },
  {
   "cell_type": "code",
   "execution_count": null,
   "metadata": {},
   "outputs": [],
   "source": []
  }
 ],
 "metadata": {
  "anaconda-cloud": {},
  "kernelspec": {
   "display_name": "Python [default]",
   "language": "python",
   "name": "python3"
  },
  "language_info": {
   "codemirror_mode": {
    "name": "ipython",
    "version": 3
   },
   "file_extension": ".py",
   "mimetype": "text/x-python",
   "name": "python",
   "nbconvert_exporter": "python",
   "pygments_lexer": "ipython3",
   "version": "3.5.5"
  }
 },
 "nbformat": 4,
 "nbformat_minor": 2
}
